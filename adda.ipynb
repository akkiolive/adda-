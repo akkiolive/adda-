{
 "cells": [
  {
   "cell_type": "code",
   "execution_count": 171,
   "metadata": {},
   "outputs": [],
   "source": [
    "import requests\n",
    "from bs4 import BeautifulSoup\n",
    "from pathlib import Path\n",
    "import subprocess"
   ]
  },
  {
   "cell_type": "code",
   "execution_count": 172,
   "metadata": {},
   "outputs": [],
   "source": [
    "contest = \"abc278\"\n",
    "task = \"d\"\n",
    "url = f\"https://atcoder.jp/contests/{contest}/tasks/{contest}_{task}\"\n"
   ]
  },
  {
   "cell_type": "code",
   "execution_count": 173,
   "metadata": {},
   "outputs": [],
   "source": [
    "r = requests.get(url)"
   ]
  },
  {
   "cell_type": "code",
   "execution_count": 174,
   "metadata": {},
   "outputs": [],
   "source": [
    "soup = BeautifulSoup(r.content, \"html.parser\")"
   ]
  },
  {
   "cell_type": "code",
   "execution_count": 175,
   "metadata": {},
   "outputs": [],
   "source": [
    "tests = []\n",
    "for i in range(1, 100):\n",
    "    q = soup.find(\"h3\", text=f\"入力例 {i}\")\n",
    "    if not q:\n",
    "        break\n",
    "    while q.name != \"pre\":\n",
    "        q = q.next_element\n",
    "    \n",
    "    a = soup.find(\"h3\", text=f\"出力例 {i}\")\n",
    "    if not a:\n",
    "        break\n",
    "    while a.name != \"pre\":\n",
    "        a = a.next_element\n",
    "    \n",
    "    test = (q, a)\n",
    "    tests.append(test)\n",
    "\n",
    "    with open(f\"{task}{i}.txt\", \"w\") as f:\n",
    "        f.write(q.text.replace(\"\\r\\n\", \"\\n\"))\n",
    "    with open(f\"{task}{i}_ans.txt\", \"w\") as f:\n",
    "        f.write(a.text.replace(\"\\r\\n\", \"\\n\"))"
   ]
  },
  {
   "cell_type": "code",
   "execution_count": 176,
   "metadata": {},
   "outputs": [
    {
     "name": "stdout",
     "output_type": "stream",
     "text": [
      "d.py\n",
      "### runnning...\n",
      "Sample: 1 ...ok\n",
      "Sample: 2 ...ok\n",
      "Sample: 3 ...ok\n"
     ]
    }
   ],
   "source": [
    "u = list(Path().glob(f\"{task}.[c][cpp][py]\"))\n",
    "u += list(Path().glob(f\"{task}.py\"))\n",
    "u = u[0]\n",
    "print(u.name)\n",
    "\n",
    "if u.suffix.lower() in [\".c\", \".cpp\"]:\n",
    "    print(\"### compiling...\", end=\"\")\n",
    "    r = subprocess.run([\"g++\", \"-o\", u.stem, str(u)], shell=True, capture_output=True)\n",
    "    if r.returncode == 0:\n",
    "        print(\"done\")\n",
    "        if r.stdout.decode():\n",
    "            print(r.stdout.decode())\n",
    "    else:\n",
    "        print(\"failed\")\n",
    "        print(r)\n",
    "\n",
    "print(\"### runnning...\")\n",
    "for i in range(1, 100):\n",
    "    q = Path(f\"{task}{i}.txt\")\n",
    "    a = Path(f\"{task}{i}_ans.txt\")\n",
    "    if not q.exists():\n",
    "        break\n",
    "\n",
    "\n",
    "    #print(\"-------------------\")\n",
    "    print(\"Sample:\", i, \"...\", end=\"\")\n",
    "    with open(q, \"r\") as f:\n",
    "        #print(f.read())\n",
    "        pass\n",
    "    if u.suffix.lower() == \".c\":\n",
    "        r = subprocess.run([str(u.stem), \"<\", str(q)], shell=True, capture_output=True)\n",
    "    elif u.suffix.lower() == \".cpp\":\n",
    "        r = subprocess.run([str(u.stem), \"<\", str(q)], shell=True, capture_output=True)\n",
    "    elif u.suffix.lower() == \".py\":\n",
    "        r = subprocess.run([\"py\", str(u), \"<\", str(q)], shell=True, capture_output=True)\n",
    "    #print(r)\n",
    "    ua = r.stdout.decode().replace(\"\\r\\n\", \"\\n\").strip()\n",
    "    #print(\"Your answer:\")\n",
    "    #print(ua)\n",
    "\n",
    "    with open(a, \"r\") as f:\n",
    "        ans = f.read().strip()\n",
    "        if ua == ans:\n",
    "            print(\"ok\")\n",
    "        else:\n",
    "            print(\"ng\")\n",
    "            #print(ans)\n",
    "\n",
    "    "
   ]
  },
  {
   "cell_type": "code",
   "execution_count": null,
   "metadata": {},
   "outputs": [],
   "source": []
  }
 ],
 "metadata": {
  "kernelspec": {
   "display_name": "Python 3.10.2 64-bit",
   "language": "python",
   "name": "python3"
  },
  "language_info": {
   "codemirror_mode": {
    "name": "ipython",
    "version": 3
   },
   "file_extension": ".py",
   "mimetype": "text/x-python",
   "name": "python",
   "nbconvert_exporter": "python",
   "pygments_lexer": "ipython3",
   "version": "3.10.2"
  },
  "orig_nbformat": 4,
  "vscode": {
   "interpreter": {
    "hash": "bd24cada573d0cd4cdfbfa9699ed6550535f8c93f67924afaa80d140bdd139fd"
   }
  }
 },
 "nbformat": 4,
 "nbformat_minor": 2
}
